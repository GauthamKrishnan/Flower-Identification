{
 "cells": [
  {
   "cell_type": "code",
   "execution_count": 8,
   "metadata": {},
   "outputs": [],
   "source": [
    "%matplotlib inline"
   ]
  },
  {
   "cell_type": "code",
   "execution_count": 9,
   "metadata": {},
   "outputs": [],
   "source": [
    "from matplotlib import pyplot as plt\n",
    "import numpy as np"
   ]
  },
  {
   "cell_type": "code",
   "execution_count": 10,
   "metadata": {},
   "outputs": [],
   "source": [
    "#each point is [length,width,type]\n",
    "data = [[3,1.5, 1],\n",
    "        [2, 1,  0],\n",
    "        [4, 1.5,1],\n",
    "        [3, 1,  0],\n",
    "        [3.5,0.5, 1],\n",
    "        [5.5, 1, 1],\n",
    "        [1, 1, 0]]"
   ]
  },
  {
   "cell_type": "code",
   "execution_count": 11,
   "metadata": {},
   "outputs": [],
   "source": [
    "mys_flo = [4.5,1]"
   ]
  },
  {
   "cell_type": "code",
   "execution_count": null,
   "metadata": {},
   "outputs": [],
   "source": []
  },
  {
   "cell_type": "code",
   "execution_count": 12,
   "metadata": {},
   "outputs": [],
   "source": [
    "#network architecture\n",
    "\n",
    "#output of flower type\n",
    "#weights w1,w2 and b\n",
    "#inputs x1 and x2 the length and width\n",
    "\n",
    "\n",
    "\n"
   ]
  },
  {
   "cell_type": "code",
   "execution_count": null,
   "metadata": {},
   "outputs": [],
   "source": []
  },
  {
   "cell_type": "code",
   "execution_count": 13,
   "metadata": {},
   "outputs": [],
   "source": [
    "def sigmoid(x):\n",
    "    return 1/(1+np.exp(-x))\n",
    "def sigmoid_p(x):\n",
    "    return sigmoid(x)*(1-sigmoid(x))"
   ]
  },
  {
   "cell_type": "code",
   "execution_count": 14,
   "metadata": {},
   "outputs": [],
   "source": [
    "T = np.linspace(-5,5,100)\n"
   ]
  },
  {
   "cell_type": "code",
   "execution_count": null,
   "metadata": {},
   "outputs": [],
   "source": []
  },
  {
   "cell_type": "code",
   "execution_count": 15,
   "metadata": {},
   "outputs": [],
   "source": [
    "Y = sigmoid(T)\n",
    "Z = sigmoid_p(T)"
   ]
  },
  {
   "cell_type": "code",
   "execution_count": 16,
   "metadata": {},
   "outputs": [
    {
     "data": {
      "text/plain": [
       "[<matplotlib.lines.Line2D at 0x15a99d6b7f0>]"
      ]
     },
     "execution_count": 16,
     "metadata": {},
     "output_type": "execute_result"
    },
    {
     "data": {
      "image/png": "[encoded data removed]",
      "text/plain": [
       "<matplotlib.figure.Figure at 0x15a99d6b7b8>"
      ]
     },
     "metadata": {},
     "output_type": "display_data"
    }
   ],
   "source": [
    "plt.plot(T,Y)\n",
    "plt.plot(T,Z)"
   ]
  },
  {
   "cell_type": "code",
   "execution_count": 38,
   "metadata": {},
   "outputs": [
    {
     "data": {
      "text/plain": [
       "[<matplotlib.lines.Line2D at 0x15aa81aa4a8>]"
      ]
     },
     "execution_count": 38,
     "metadata": {},
     "output_type": "execute_result"
    },
    {
     "data": {
      "image/png": "[encoded data removed]",
      "text/plain": [
       "<matplotlib.figure.Figure at 0x15aac1c4048>"
      ]
     },
     "metadata": {},
     "output_type": "display_data"
    }
   ],
   "source": [
    "#training loop\n",
    "#get the cost\n",
    "#differentiate cost\n",
    "learning_rate = 0.2\n",
    "costs = []\n",
    "w1=np.random.randn()\n",
    "w2=np.random.randn()\n",
    "b=np.random.randn()\n",
    "for i in range(50000):\n",
    "    ri = np.random.randint(len(data))\n",
    "    point = data[ri]\n",
    "     \n",
    "    z = w1*point[0] + w2*point[1] + b\n",
    "    pred = sigmoid(z)\n",
    "    target = point[2]\n",
    "    cost = np.square(pred - target)\n",
    "    \n",
    "    d_cost_pred = 2 * (pred-target)\n",
    "    d_pred_z = sigmoid_p(z)\n",
    "    \n",
    "    d_z_dw1 = point[0]\n",
    "    d_z_dw2 = point[1]\n",
    "    d_z_b = 1\n",
    "    \n",
    "    d_cost_z = d_cost_pred * d_pred_z\n",
    "    \n",
    "    d_cost_w1 = d_cost_z *d_z_dw1\n",
    "    d_cost_w2 = d_cost_z *d_z_dw2\n",
    "    d_cost_b = d_cost_z *d_z_b\n",
    "    \n",
    "    w1 = w1 - (learning_rate*d_cost_w1) \n",
    "    w2 = w2 - (learning_rate*d_cost_w2)\n",
    "    b  = b  - (learning_rate*d_cost_b)\n",
    "    \n",
    "    if (i%100 ==0): cost_sum=0\n",
    "    for j in range(len(data)):\n",
    "        point = data[j]\n",
    "        z = w1*point[0] + w2*point[1] + b\n",
    "        pred = sigmoid(z)\n",
    "        target = point[2]\n",
    "        cost_sum += np.square(pred - target)\n",
    "        costs.append(cost_sum)\n",
    "\n",
    "plt.plot(costs)    \n",
    "\n",
    "\n",
    "    "
   ]
  },
  {
   "cell_type": "code",
   "execution_count": 32,
   "metadata": {},
   "outputs": [
    {
     "data": {
      "image/png": "[encoded data removed]",
      "text/plain": [
       "<matplotlib.figure.Figure at 0x15a9e00d240>"
      ]
     },
     "metadata": {},
     "output_type": "display_data"
    }
   ],
   "source": [
    "#scatter data\n",
    "plt.axis([0,6,0,6])\n",
    "plt.grid()\n",
    "for i in range(len(data)):\n",
    "    point = data[i]\n",
    "    colour = \"r\"\n",
    "    if(point[2] == 0): colour=\"b\"\n",
    "    plt.scatter(point[0],point[1],c=colour)"
   ]
  },
  {
   "cell_type": "code",
   "execution_count": 39,
   "metadata": {},
   "outputs": [
    {
     "data": {
      "text/plain": [
       "0.9999479293793182"
      ]
     },
     "execution_count": 39,
     "metadata": {},
     "output_type": "execute_result"
    }
   ],
   "source": [
    "z = w1*mys_flo[0] + w2*mys_flo[1] +b\n",
    "pred = sigmoid(z)\n",
    "pred"
   ]
  },
  {
   "cell_type": "code",
   "execution_count": 40,
   "metadata": {},
   "outputs": [],
   "source": [
    "import os"
   ]
  },
  {
   "cell_type": "code",
   "execution_count": 47,
   "metadata": {},
   "outputs": [],
   "source": [
    "def which_flower(length,width):\n",
    "    z = w1*length + w2*width +b\n",
    "    pred = sigmoid(z)\n",
    "    pred\n",
    "    if(pred<0.5): print(\"blue flower\")\n",
    "    else: \n",
    "        print(\"red flower\")\n"
   ]
  },
  {
   "cell_type": "code",
   "execution_count": 54,
   "metadata": {},
   "outputs": [
    {
     "name": "stdout",
     "output_type": "stream",
     "text": [
      "red flower\n"
     ]
    }
   ],
   "source": [
    "which_flower(5.5,1)"
   ]
  },
  {
   "cell_type": "code",
   "execution_count": null,
   "metadata": {},
   "outputs": [],
   "source": []
  }
 ],
 "metadata": {
  "kernelspec": {
   "display_name": "Python 3",
   "language": "python",
   "name": "python3"
  },
  "language_info": {
   "codemirror_mode": {
    "name": "ipython",
    "version": 3
   },
   "file_extension": ".py",
   "mimetype": "text/x-python",
   "name": "python",
   "nbconvert_exporter": "python",
   "pygments_lexer": "ipython3",
   "version": "3.6.3"
  }
 },
 "nbformat": 4,
 "nbformat_minor": 2
}
